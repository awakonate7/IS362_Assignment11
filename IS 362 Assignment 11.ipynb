{
 "cells": [
  {
   "cell_type": "markdown",
   "id": "7f1d8fdb",
   "metadata": {},
   "source": [
    "Awa Konate - Assignment 11: Web APIs - IS 362"
   ]
  },
  {
   "cell_type": "code",
   "execution_count": null,
   "id": "3ac2406c",
   "metadata": {},
   "outputs": [],
   "source": [
    "import json\n",
    "import requests\n",
    "import csv\n",
    "import pandas as pd"
   ]
  },
  {
   "cell_type": "code",
   "execution_count": null,
   "id": "180154b1",
   "metadata": {},
   "outputs": [],
   "source": [
    "response = requests.get(\"https://api.nytimes.com/svc/movies/v2/reviews/search.json?query=alien&api-key=FS43Qs3spC16tEK2x3rFvsZYXlAqh0UW\")\n",
    "todos = json.loads(response.text)"
   ]
  },
  {
   "cell_type": "code",
   "execution_count": null,
   "id": "575be625",
   "metadata": {},
   "outputs": [],
   "source": [
    "todos_formatted = json.dumps(todos, indent=1)\n",
    "# This will allow the data to be displayed in TODO format"
   ]
  },
  {
   "cell_type": "code",
   "execution_count": null,
   "id": "611848a5",
   "metadata": {},
   "outputs": [],
   "source": [
    "df = pd.read_json(\"https://api.nytimes.com/svc/movies/v2/reviews/search.json?query=alien&api-key=FS43Qs3spC16tEK2x3rFvsZYXlAqh0UW\")\n",
    "with pd.option_context('display.max_rows', None, 'display.max_columns', 10):  \n",
    "    print(df)\n",
    "df.to_string()\n",
    "#simple and minimal display of the data in TODO format"
   ]
  },
  {
   "cell_type": "code",
   "execution_count": null,
   "id": "00acb6fe",
   "metadata": {},
   "outputs": [],
   "source": [
    "   status                                          copyright  has_more  \\\n",
    "\n",
    "0      OK  Copyright (c) 2022 The New York Times Company....      True   \n",
    "\n",
    "1      OK  Copyright (c) 2022 The New York Times Company....      True   \n",
    "\n",
    "2      OK  Copyright (c) 2022 The New York Times Company....      True   \n",
    "\n",
    "3      OK  Copyright (c) 2022 The New York Times Company....      True   \n",
    "\n",
    "4      OK  Copyright (c) 2022 The New York Times Company....      True   \n",
    "\n",
    "5      OK  Copyright (c) 2022 The New York Times Company....      True   \n",
    "\n",
    "6      OK  Copyright (c) 2022 The New York Times Company....      True   \n",
    "\n",
    "7      OK  Copyright (c) 2022 The New York Times Company....      True   \n",
    "\n",
    "8      OK  Copyright (c) 2022 The New York Times Company....      True   \n",
    "\n",
    "9      OK  Copyright (c) 2022 The New York Times Company....      True   \n",
    "\n",
    "10     OK  Copyright (c) 2022 The New York Times Company....      True   \n",
    "\n",
    "11     OK  Copyright (c) 2022 The New York Times Company....      True   \n",
    "\n",
    "12     OK  Copyright (c) 2022 The New York Times Company....      True   \n",
    "\n",
    "13     OK  Copyright (c) 2022 The New York Times Company....      True   \n",
    "\n",
    "14     OK  Copyright (c) 2022 The New York Times Company....      True   \n",
    "\n",
    "15     OK  Copyright (c) 2022 The New York Times Company....      True   \n",
    "\n",
    "16     OK  Copyright (c) 2022 The New York Times Company....      True   \n",
    "\n",
    "17     OK  Copyright (c) 2022 The New York Times Company....      True   \n",
    "\n",
    "18     OK  Copyright (c) 2022 The New York Times Company....      True   \n",
    "\n",
    "19     OK  Copyright (c) 2022 The New York Times Company....      True   \n",
    "\n",
    "\n",
    "\n",
    "    num_results                                            results  \n",
    "\n",
    "0            20  {'display_title': 'Memory: The Origins of Alie...  \n",
    "\n",
    "1            20  {'display_title': 'Alien: Covenant', 'mpaa_rat...  \n",
    "\n",
    "2            20  {'display_title': 'Alien Outpost', 'mpaa_ratin...  \n",
    "\n",
    "3            20  {'display_title': 'Alien Abduction', 'mpaa_rat...  \n",
    "\n",
    "4            20  {'display_title': 'Codependent Lesbian Space A...  \n",
    "\n",
    "5            20  {'display_title': 'Cowboys & Aliens', 'mpaa_ra...  \n",
    "\n",
    "6            20  {'display_title': 'Aliens in the Attic', 'mpaa...  \n",
    "\n",
    "7            20  {'display_title': 'Alien Trespass', 'mpaa_rati...  \n",
    "\n",
    "8            20  {'display_title': 'Monsters vs. Aliens', 'mpaa...  \n",
    "\n",
    "9            20  {'display_title': 'How to Lose Friends & Alien...  \n",
    "\n",
    "10           20  {'display_title': 'Aliens vs. Predator: Requie...  \n",
    "\n",
    "11           20  {'display_title': 'Alien vs. Predator', 'mpaa_...  \n",
    "\n",
    "12           20  {'display_title': 'Mutant Aliens', 'mpaa_ratin...  \n",
    "\n",
    "13           20  {'display_title': 'Alien Resurrection', 'mpaa_...  \n",
    "\n",
    "14           20  {'display_title': 'Three Lives and Only One De...  \n",
    "\n",
    "15           20  {'display_title': 'The Hairdresser's Husband',...  \n",
    "\n",
    "16           20  {'display_title': 'Alien3', 'mpaa_rating': 'R'...  \n",
    "\n",
    "17           20  {'display_title': 'Resident Alien', 'mpaa_rati...  \n",
    "\n",
    "18           20  {'display_title': 'Rorret', 'mpaa_rating': '',...  \n",
    "\n",
    "19           20  {'display_title': 'My Stepmother Is An Alien',...  \n"
   ]
  },
  {
   "cell_type": "raw",
   "id": "4033c710",
   "metadata": {},
   "source": [
    "\"   status                                                            copyright  has_more  num_results results\\n0      OK  Copyright (c) 2022 The New York Times Company. All Rights Reserved.      True           20                   {'display_title': 'Memory: The Origins of Alien', 'mpaa_rating': '', 'critics_pick': 0, 'byline': 'Ben Kenigsberg', 'headline': '‘Memory: The Origins of Alien’ Review: Extras on an Extraterrestrial', 'summary_short': 'This documentary about Ridley Scott’s 1979 science-fiction classic often plays like a conventional making-of doc.', 'publication_date': '2019-10-03', 'opening_date': '2019-10-04', 'date_updated': '2019-10-11 16:44:02', 'link': {'type': 'article', 'url': 'https://www.nytimes.com/2019/10/03/movies/memory-the-origins-of-alien-review.html', 'suggested_link_text': 'Read the New York Times Review of Memory: The Origins of Alien'}, 'multimedia': {'type': 'mediumThreeByTwo210', 'src': 'https://static01.nyt.com/images/2019/10/04/arts/03memory-art/03memory-art-mediumThreeByTwo440.jpg', 'height': 140, 'width': 210}}\\n1      OK  Copyright (c) 2022 The New York Times Company. All Rights Reserved.      True           20                                                                          {'display_title': 'Alien: Covenant', 'mpaa_rating': 'R', 'critics_pick': 0, 'byline': 'A.O. SCOTT', 'headline': 'Review: ‘Alien: Covenant’ Stays on Brand With Its Terror', 'summary_short': 'The new entry in Ridley Scott’s long-lived franchise is committed to the canny management of expectations, but that doesn’t diminish its creepiness.', 'publication_date': '2017-05-17', 'opening_date': '2017-05-19', 'date_updated': '2017-11-02 04:18:27', 'link': {'type': 'article', 'url': 'https://www.nytimes.com/2017/05/17/movies/alien-covenant-review-ridley-scott.html', 'suggested_link_text': 'Read the New York Times Review of Alien: Covenant'}, 'multimedia': {'type': 'mediumThreeByTwo210', 'src': 'https://static01.nyt.com/images/2017/05/19/arts/19ALIEN1/19ALIEN1-mediumThreeByTwo210-v2.jpg', 'height': 140, 'width': 210}}\\n2      OK  Copyright (c) 2022 The New York Times Company. All Rights Reserved.      True           20                                                                 {'display_title': 'Alien Outpost', 'mpaa_rating': 'Not Rated', 'critics_pick': 0, 'byline': 'JEANNETTE CATSOULIS', 'headline': 'Embedded With the E. T. Fighters ', 'summary_short': 'The low-budget &#8220;Alien Outpost&#8221; is shaped like a boots-on-the-ground documentary but is more akin to a futuristic war movie.', 'publication_date': '2015-01-29', 'opening_date': None, 'date_updated': '2017-11-02 04:16:39', 'link': {'type': 'article', 'url': 'https://www.nytimes.com/2015/01/30/movies/alien-outpost-directed-by-jabbar-raisani.html', 'suggested_link_text': 'Read the New York Times Review of Alien Outpost'}, 'multimedia': {'type': 'mediumThreeByTwo210', 'src': 'https://static01.nyt.com/images/2015/01/30/arts/30ALIEN/ALIEN-mediumThreeByTwo210.jpg', 'height': 140, 'width': 210}}\\n3      OK  Copyright (c) 2022 The New York Times Company. All Rights Reserved.      True           20         {'display_title': 'Alien Abduction', 'mpaa_rating': 'Not Rated', 'critics_pick': 0, 'byline': 'JEANNETTE CATSOULIS', 'headline': 'A Family Finds There’s Something Out There', 'summary_short': 'A family has an adventure in “Alien Abduction,” a sci-fi film inspired by so-called sightings in the Brown Mountain area of North Carolina.', 'publication_date': '2014-04-03', 'opening_date': None, 'date_updated': '2017-11-02 04:16:40', 'link': {'type': 'article', 'url': 'https://www.nytimes.com/2014/04/04/movies/alien-abduction-a-thriller-directed-by-matty-beckerman.html', 'suggested_link_text': 'Read the New York Times Review of Alien Abduction'}, 'multimedia': {'type': 'mediumThreeByTwo210', 'src': 'https://static01.nyt.com/images/2014/04/04/arts/09RDP_ALIEN_SPAN/09RDP_ALIEN_SPAN-mediumThreeByTwo210.jpg', 'height': 140, 'width': 210}}\\n4      OK  Copyright (c) 2022 The New York Times Company. All Rights Reserved.      True           20                                                                         {'display_title': 'Codependent Lesbian Space Alien Seeks Same', 'mpaa_rating': '', 'critics_pick': 0, 'byline': 'JEANNETTE CATSOULIS', 'headline': 'Lesbian Alien Looks for Love Light Years Away', 'summary_short': 'A lonely Manhattanite and an exiled extraterrestrial find interspecies contentment in “Codependent Lesbian Space Alien Seeks Same.”', 'publication_date': '2012-01-05', 'opening_date': '2012-01-06', 'date_updated': '2017-11-02 04:18:14', 'link': {'type': 'article', 'url': 'https://www.nytimes.com/2012/01/06/movies/codependent-lesbian-space-alien-seeks-same-from-madeleine-olnek.html', 'suggested_link_text': 'Read the New York Times Review of Codependent Lesbian Space Alien Seeks Same'}, 'multimedia': None}\\n5      OK  Copyright (c) 2022 The New York Times Company. All Rights Reserved.      True           20                                                                                     {'display_title': 'Cowboys & Aliens', 'mpaa_rating': 'PG-13', 'critics_pick': 0, 'byline': 'MANOHLA DARGIS', 'headline': 'Extraterrestrials Land at the O.K. Corral', 'summary_short': 'In “Cowboys & Aliens,” Daniel Craig rides into the New Mexico Territory and wrangles extraterrestrials that look like cousins of the monsters from the “Alien” films.', 'publication_date': '2011-07-28', 'opening_date': '2011-07-29', 'date_updated': '2017-11-02 04:18:13', 'link': {'type': 'article', 'url': 'https://www.nytimes.com/2011/07/29/movies/cowboys-aliens-with-daniel-craig-review.html', 'suggested_link_text': 'Read the New York Times Review of Cowboys & Aliens'}, 'multimedia': None}\\n6      OK  Copyright (c) 2022 The New York Times Company. All Rights Reserved.      True           20                   {'display_title': 'Aliens in the Attic', 'mpaa_rating': 'PG', 'critics_pick': 0, 'byline': 'MIKE HALE', 'headline': 'Earth in Peril, Children to the Rescue', 'summary_short': 'In “Aliens in the Attic,” basically a tweener cable movie on steroids, a group of green critters from space battle a group of youngstes as the fate of the planet hangs in the balance.', 'publication_date': '2009-07-31', 'opening_date': '2009-07-31', 'date_updated': '2017-11-02 04:18:09', 'link': {'type': 'article', 'url': 'https://www.nytimes.com/2009/08/01/movies/01alien.html', 'suggested_link_text': 'Read the New York Times Review of Aliens in the Attic'}, 'multimedia': None}\\n7      OK  Copyright (c) 2022 The New York Times Company. All Rights Reserved.      True           20                           {'display_title': 'Alien Trespass', 'mpaa_rating': 'PG', 'critics_pick': 0, 'byline': 'JEANNETTE CATSOULIS', 'headline': 'Monsters, Aliens and Nostalgia', 'summary_short': '“Alien Trespass” is a charmingly sentimental but ultimately pointless homage to the sci-fi classics of yesteryear.', 'publication_date': '2009-04-02', 'opening_date': None, 'date_updated': '2017-11-02 04:16:29', 'link': {'type': 'article', 'url': 'https://www.nytimes.com/2009/04/03/movies/03tres.html', 'suggested_link_text': 'Read the New York Times Review of Alien Trespass'}, 'multimedia': None}\\n8      OK  Copyright (c) 2022 The New York Times Company. All Rights Reserved.      True           20                                                                                     {'display_title': 'Monsters vs. Aliens', 'mpaa_rating': 'PG', 'critics_pick': 0, 'byline': 'A. O. SCOTT', 'headline': '3-D Fun With a Beefed-Up Bride and a Dumb Blob Named B.O.B.', 'summary_short': '“Monsters vs. Aliens” cheerfully converts two major sources of cinematic terror into wacky, goofy, familiar figures.', 'publication_date': '2009-03-26', 'opening_date': '2009-03-27', 'date_updated': '2017-11-02 04:18:09', 'link': {'type': 'article', 'url': 'https://www.nytimes.com/2009/03/27/movies/27mons.html', 'suggested_link_text': 'Read the New York Times Review of Monsters vs. Aliens'}, 'multimedia': None}\\n9      OK  Copyright (c) 2022 The New York Times Company. All Rights Reserved.      True           20                                                                             {'display_title': 'How to Lose Friends & Alienate People', 'mpaa_rating': 'R', 'critics_pick': 0, 'byline': 'MANOHLA DARGIS', 'headline': 'A Guide to Burning Your Bridges', 'summary_short': 'The crushingly unfunny and slopped-together “How to Lose Friends & Alienate People” has neither the ambition nor the intelligence to do justice to its source material.', 'publication_date': '2008-10-02', 'opening_date': '2008-10-03', 'date_updated': '2017-11-02 04:18:08', 'link': {'type': 'article', 'url': 'https://www.nytimes.com/2008/10/03/movies/03lose.html', 'suggested_link_text': 'Read the New York Times Review of How to Lose Friends & Alienate People'}, 'multimedia': None}\\n10     OK  Copyright (c) 2022 The New York Times Company. All Rights Reserved.      True           20         {'display_title': 'Aliens vs. Predator: Requiem', 'mpaa_rating': 'R', 'critics_pick': 0, 'byline': 'NEIL GENZLINGER', 'headline': 'Aliens and Predators Still Can’t Seem to Get Along', 'summary_short': 'The second “Aliens vs. Predator” film is, like its predecessor, one very dark movie. Not psychologically dark; dark  dark, as in not very generously lighted.', 'publication_date': '2007-12-26', 'opening_date': '2007-12-25', 'date_updated': '2017-11-02 04:18:07', 'link': {'type': 'article', 'url': 'https://www.nytimes.com/2007/12/26/movies/26alie.html', 'suggested_link_text': 'Read the New York Times Review of Aliens vs. Predator: Requiem'}, 'multimedia': None}\\n11     OK  Copyright (c) 2022 The New York Times Company. All Rights Reserved.      True           20  {'display_title': 'Alien vs. Predator', 'mpaa_rating': 'TV-14', 'critics_pick': 0, 'byline': 'Dave Kehr', 'headline': 'It's an Underground Monster World Series', 'summary_short': 'Set in a Jules Verne world beneath the earth's surface  in an incalculably ancient pyramid buried 2,000 feet beneath the Antarctic ice cap,  Paul W.H. Anderson's film imagines an apocalyptic conflict between two of 20th-Century Fox's franchise monsters, on loan from &quot;Alien&quot; (1979) and &quot;Predator&quot; (1986).  The humans don't have much to do in &quot;Alien vs. Predator&quot; but put the plot in motion and stand back to watch it work, a precarious position that eventually claims most of them.  Though Mr. Anderson does have an idea for creating a rooting interest, it's too far-fetched even for fantasy, and the film turns into a cold but occasionally impressive special-effects extravaganza. — Dave Kehr', 'publication_date': '2004-08-14', 'opening_date': '2004-08-13', 'date_updated': '2017-11-02 04:18:04', 'link': {'type': 'article', 'url': 'https://www.nytimes.com/2004/08/14/movies/film-review-it-s-an-underground-monster-world-series.html', 'suggested_link_text': 'Read the New York Times Review of Alien vs. Predator'}, 'multimedia': None}\\n12     OK  Copyright (c) 2022 The New York Times Company. All Rights Reserved.      True           20                           {'display_title': 'Mutant Aliens', 'mpaa_rating': 'R', 'critics_pick': 0, 'byline': 'Dave Kehr', 'headline': 'Mutant Aliens (Movie)  ', 'summary_short': 'It is hard not to admire Bill Plympton, the maverick animator whose distinctive, pencil-sketch style has graced a host of short films, commercials, MTV interstitials and three full-length animated features, including his latest work, &quot;Mutant Aliens.&quot;  Mr. Plympton is unquestionably a brilliant draftsman, and within the severe limitations of his small budgets (most of his films have been self-financed) he is a capable, often inventive animator. But he has yet to find a steady narrative voice to match his drawing skills, and &quot;Mutant Aliens,&quot; like his previous features &quot;The Tune&quot; (1992) and &quot;I Married a Strange Person&quot; (1997) doesn't hang together. &#151; Dave Kehr\\r\\n', 'publication_date': '2002-04-19', 'opening_date': None, 'date_updated': '2017-11-02 04:16:20', 'link': {'type': 'article', 'url': 'https://www.nytimes.com/2002/04/19/movies/film-in-review-mutant-aliens.html', 'suggested_link_text': 'Read the New York Times Review of Mutant Aliens'}, 'multimedia': None}\\n13     OK  Copyright (c) 2022 The New York Times Company. All Rights Reserved.      True           20                                                                         {'display_title': 'Alien Resurrection', 'mpaa_rating': 'R', 'critics_pick': 0, 'byline': 'Janet Maslin', 'headline': 'Alien Resurrection (Movie)  ', 'summary_short': 'Slime time again, with heroine now an alien's mom. Freakish, macabre sequel.', 'publication_date': '1997-11-26', 'opening_date': '1997-11-26', 'date_updated': '2017-11-02 04:17:54', 'link': {'type': 'article', 'url': 'https://www.nytimes.com/1997/11/26/movies/film-review-ripley-believe-it-or-not-has-a-secret-and-it-s-not-pretty.html', 'suggested_link_text': 'Read the New York Times Review of Alien Resurrection'}, 'multimedia': None}\\n14     OK  Copyright (c) 2022 The New York Times Company. All Rights Reserved.      True           20                                                                                               {'display_title': 'Three Lives and Only One Death', 'mpaa_rating': '', 'critics_pick': 0, 'byline': 'STEPHEN HOLDEN', 'headline': 'Three Lives and Only One Death (Movie)  ', 'summary_short': '', 'publication_date': '1996-10-09', 'opening_date': '1996-10-11', 'date_updated': '2017-11-02 04:17:51', 'link': {'type': 'article', 'url': 'https://www.nytimes.com/1996/10/09/movies/four-men-in-one-body-and-it-s-mastroianni-s.html', 'suggested_link_text': 'Read the New York Times Review of Three Lives and Only One Death'}, 'multimedia': None}\\n15     OK  Copyright (c) 2022 The New York Times Company. All Rights Reserved.      True           20                   {'display_title': 'The Hairdresser's Husband', 'mpaa_rating': 'R', 'critics_pick': 0, 'byline': 'JANET MASLIN', 'headline': 'HAIRDRESSER'S HUSBAND, THE (MOVIE)', 'summary_short': 'Man's lifelong joy in having hair cut by women. There are limits to how deep you can go with this.', 'publication_date': '1992-06-19', 'opening_date': None, 'date_updated': '2017-11-02 04:16:10', 'link': {'type': 'article', 'url': 'https://www.nytimes.com/1992/06/19/movies/reviews-film-if-a-haircut-s-erotic-marry-the-barber.html', 'suggested_link_text': 'Read the New York Times Review of The Hairdresser's Husband'}, 'multimedia': None}\\n16     OK  Copyright (c) 2022 The New York Times Company. All Rights Reserved.      True           20                                                                             {'display_title': 'Alien3', 'mpaa_rating': 'R', 'critics_pick': 0, 'byline': 'Vincent Canby', 'headline': 'ALIEN 3 (MOVIE)', 'summary_short': 'Sole woman on prison planet. Dizzying.', 'publication_date': '1992-05-22', 'opening_date': '1992-05-22', 'date_updated': '2017-11-02 04:17:44', 'link': {'type': 'article', 'url': 'https://www.nytimes.com/1992/05/22/movies/review-film-alien-3-hal-if-you-re-still-there-here-s-computer-friendly-sequel.html', 'suggested_link_text': 'Read the New York Times Review of Alien3'}, 'multimedia': None}\\n17     OK  Copyright (c) 2022 The New York Times Company. All Rights Reserved.      True           20                           {'display_title': 'Resident Alien', 'mpaa_rating': '', 'critics_pick': 0, 'byline': 'Janet Maslin', 'headline': 'RESIDENT ALIEN (MOVIE)', 'summary_short': '', 'publication_date': '1991-10-18', 'opening_date': None, 'date_updated': '2017-11-02 04:16:11', 'link': {'type': 'article', 'url': 'https://www.nytimes.com/1991/10/18/movies/reviews-film-everybody-believed-he-had-to-be-somebody.html', 'suggested_link_text': 'Read the New York Times Review of Resident Alien'}, 'multimedia': None}\\n18     OK  Copyright (c) 2022 The New York Times Company. All Rights Reserved.      True           20                                                                                     {'display_title': 'Rorret', 'mpaa_rating': '', 'critics_pick': 0, 'byline': 'VINCENT CANBY', 'headline': 'RORRET (MOVIE)', 'summary_short': '', 'publication_date': '1989-02-08', 'opening_date': None, 'date_updated': '2017-11-02 04:16:09', 'link': {'type': 'article', 'url': 'https://www.nytimes.com/1989/02/08/movies/review-film-visions-of-a-psychopath.html', 'suggested_link_text': 'Read the New York Times Review of Rorret'}, 'multimedia': None}\\n19     OK  Copyright (c) 2022 The New York Times Company. All Rights Reserved.      True           20                       {'display_title': 'My Stepmother Is An Alien', 'mpaa_rating': 'PG-13', 'critics_pick': 0, 'byline': 'Janet Maslin', 'headline': 'MY STEPMOTHER IS AN ALIEN (MOVIE)', 'summary_short': 'Amusingly eccentric Kim and O.K. story stymied by contrived silliness.', 'publication_date': '1988-12-09', 'opening_date': '1988-12-09', 'date_updated': '2017-11-02 04:17:39', 'link': {'type': 'article', 'url': 'https://www.nytimes.com/1988/12/09/movies/review-film-an-alien-who-s-cute-and-curvy.html', 'suggested_link_text': 'Read the New York Times Review of My Stepmother Is An Alien'}, 'multimedia': None}\""
   ]
  },
  {
   "cell_type": "code",
   "execution_count": null,
   "id": "a67e89c4",
   "metadata": {},
   "outputs": [],
   "source": []
  }
 ],
 "metadata": {
  "kernelspec": {
   "display_name": "Python 3 (ipykernel)",
   "language": "python",
   "name": "python3"
  },
  "language_info": {
   "codemirror_mode": {
    "name": "ipython",
    "version": 3
   },
   "file_extension": ".py",
   "mimetype": "text/x-python",
   "name": "python",
   "nbconvert_exporter": "python",
   "pygments_lexer": "ipython3",
   "version": "3.9.7"
  }
 },
 "nbformat": 4,
 "nbformat_minor": 5
}
